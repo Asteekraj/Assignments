{
 "cells": [
  {
   "cell_type": "markdown",
   "id": "caeb4559-f1dd-4489-ad2f-dab2056685a7",
   "metadata": {},
   "source": [
    "Q1- Explain the following with an examples.\n",
    "a) Artificial Intelligence,\n",
    "b) Machine Learnin,\n",
    "c) Deep Learning"
   ]
  },
  {
   "cell_type": "markdown",
   "id": "8835665f-2a50-408d-8593-b33f2c21e1a5",
   "metadata": {},
   "source": [
    "Artificial Intelligence :- It is ability of computer or a robot controlled by computer to do the human like tasks for this they require human intelligence and discernment."
   ]
  },
  {
   "cell_type": "markdown",
   "id": "cb07b67b-c908-4201-b960-834f5c4db84a",
   "metadata": {},
   "source": [
    "Machine Learning :- Machine learning is the technique to train a computer to make decisions based on given input datasets but without explicitly written code for that and it helps to computer to achieve artificial intelligence."
   ]
  },
  {
   "cell_type": "markdown",
   "id": "ded433d4-fe13-4643-98f6-1793bf0ff173",
   "metadata": {},
   "source": [
    "Deep Learning :- It is a machine learning technique with which computer takes decisions exact same how a human brain takes decision."
   ]
  },
  {
   "cell_type": "markdown",
   "id": "4fe456a5-8ff7-4d45-adc1-d8c50771e542",
   "metadata": {},
   "source": [
    "Q2- What is supervised learning and list some examples?"
   ]
  },
  {
   "cell_type": "markdown",
   "id": "cf78a9c1-47a6-466e-a8b0-1c307a190d39",
   "metadata": {},
   "source": [
    "Supervised Learning :- It is the machine learning task of learning a function that maps an input to an output as per the given datasets."
   ]
  },
  {
   "cell_type": "markdown",
   "id": "0df841ee-14d2-425e-afdf-96af23da66b5",
   "metadata": {},
   "source": [
    "Examples :  spam filters, fraud detection systems, recommendation engines, and image recognition systems "
   ]
  },
  {
   "cell_type": "markdown",
   "id": "5e858c88-e4a6-4182-b446-9e831f16bf90",
   "metadata": {},
   "source": [
    "Q3- What is unsupervised learning and list some examples?"
   ]
  },
  {
   "cell_type": "markdown",
   "id": "c94b60b9-4f15-462d-88f7-da25c8087c8f",
   "metadata": {},
   "source": [
    "Unsupervised Learning :- Unsupervised Learning can perform more complex tasks than Supervised Learning, but they are also more unpredictable and they use clustering and association technique to predict an output."
   ]
  },
  {
   "cell_type": "markdown",
   "id": "b87f9657-5c20-4442-9b7f-48dd8f9a172d",
   "metadata": {},
   "source": [
    "Examples : recommendation system , targeted marketing , customer segmentation"
   ]
  },
  {
   "cell_type": "markdown",
   "id": "6a91072b-f2ba-415d-8f5a-935bc573883b",
   "metadata": {},
   "source": [
    "Q4- What is the difference among AI, ML, DL, and DS?"
   ]
  },
  {
   "cell_type": "markdown",
   "id": "45d94b7e-3742-4c13-9131-8065019c833f",
   "metadata": {},
   "source": [
    "Ans)- Artificial Intelligence uses logic and decision trees, Machine learning uses statistics, Deep learning uses nural network to think like humans and Data science works with structured and unstructured data to predict the situations.Chatbots are the example of AI.\n"
   ]
  },
  {
   "cell_type": "markdown",
   "id": "9727e731-7e01-41dc-a8e9-36c452f884cb",
   "metadata": {},
   "source": [
    "Q5- What are the main difference between supervised, unsupervised and semi-supervised learning?"
   ]
  },
  {
   "cell_type": "markdown",
   "id": "f2abb14c-aa21-42ef-833c-eda4602d510c",
   "metadata": {},
   "source": [
    "Supervised learning is a problem with labeled data, expecting to develop predictive capability. Unsupervised learning is discovering process, diving into unlabeled data to capture hidden information. Semi-supervised learning is a blend of supervised and unsupervised learning."
   ]
  },
  {
   "cell_type": "markdown",
   "id": "0ff1c05a-2eae-402e-bcd0-e2af502279a2",
   "metadata": {},
   "source": [
    "Q6- What is train, test and validation split? Explain the importance of each term."
   ]
  },
  {
   "cell_type": "markdown",
   "id": "dffb72d3-49c5-4609-9295-327a421d1e61",
   "metadata": {},
   "source": [
    "Training data is the set of the data on which the actual training takes place. Validation split helps to improve the model performance by fine-tuning the model after each epoch. The test set informs us about the final accuracy of the model after completing the training phase."
   ]
  },
  {
   "cell_type": "markdown",
   "id": "19ccfcf4-42a7-4d2d-bf61-72fc7aeafed9",
   "metadata": {},
   "source": [
    "Q7- How can unsupervised learning be used in anomaly detection?"
   ]
  },
  {
   "cell_type": "markdown",
   "id": "a1319a7d-6774-4d62-8f2c-1793c30d1ce4",
   "metadata": {},
   "source": [
    "Anomaly detection techniques of unsupervised nature assume that normal data points occur considerably more frequently than anomalous data points. This assumption is used to classify data points that occur less frequently as anomalies. Unsupervised techniques assign each data point a score instead of a label."
   ]
  },
  {
   "cell_type": "markdown",
   "id": "c8eeb1c2-8aeb-41c0-bbf2-157004e09cc8",
   "metadata": {},
   "source": [
    "Q8- List down some commonly used supervised learning algorithms and unsupervised learning\n",
    "algorithms."
   ]
  },
  {
   "cell_type": "markdown",
   "id": "fba091d0-9557-4c02-9631-b259f03e558b",
   "metadata": {},
   "source": [
    "The most commonly used Supervised Learning algorithms are decision tree, logistic regression, linear regression, support vector machine. The most commonly used Unsupervised Learning algorithms are k-means clustering, hierarchical clustering, and apriori algorithm."
   ]
  },
  {
   "cell_type": "code",
   "execution_count": null,
   "id": "549c2c3a-04c5-407e-8926-5e17ce671fdf",
   "metadata": {},
   "outputs": [],
   "source": []
  }
 ],
 "metadata": {
  "kernelspec": {
   "display_name": "Python 3 (ipykernel)",
   "language": "python",
   "name": "python3"
  },
  "language_info": {
   "codemirror_mode": {
    "name": "ipython",
    "version": 3
   },
   "file_extension": ".py",
   "mimetype": "text/x-python",
   "name": "python",
   "nbconvert_exporter": "python",
   "pygments_lexer": "ipython3",
   "version": "3.10.8"
  }
 },
 "nbformat": 4,
 "nbformat_minor": 5
}
